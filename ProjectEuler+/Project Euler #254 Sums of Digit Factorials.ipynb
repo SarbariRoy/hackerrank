{
 "cells": [
  {
   "cell_type": "code",
   "execution_count": 48,
   "id": "71cee391",
   "metadata": {},
   "outputs": [],
   "source": [
    "import math\n",
    "factorials ={}\n",
    "digit_sums = {}\n",
    "dicts = {}\n",
    "\n",
    "def factorial(i):\n",
    "    try :\n",
    "#         print(\"in!\")\n",
    "        return factorials[i]\n",
    "    except :\n",
    "#         print(\"not in\")\n",
    "        factorials[i]= math.factorial(int(i))\n",
    "        return factorials[i]\n",
    "        \n",
    "    \n",
    "def f(n, debug = False): #sum of the factorials of the digits\n",
    "#     sum1 = 0\n",
    "#      print(\" Sum of Digits : \" ,sum([factorial(int(i)) for i in str(n)]))\n",
    "    return sum([factorial(int(i)) for i in str(n)])\n",
    "\n",
    "def sf(n): #sum of the digits of f(n)\n",
    "    return  digit_sum(f(n))\n",
    "\n",
    "def digit_sum(n): #sum of the digits of f(n)\n",
    "    try :\n",
    "        return digit_sums[n]\n",
    "    except :\n",
    "        digit_sums[n]= sum([int(i) for i in str(n)])\n",
    "        return digit_sums[n]\n",
    "\n",
    "def g(i): #to be the smallest positive integer n such that sf(n)=i\n",
    "    print(\" i = \",i)\n",
    "    for n in range(1,10**18+1):\n",
    "        print(\"Checking for n = \",n)\n",
    "#         print(\"**\")\n",
    "#         print(n)\n",
    "#         print(f(n))/\n",
    "#         print(sf(n))\n",
    "        if sf(n) == i:\n",
    "            break\n",
    "    print(\" n = \",n)\n",
    "    print(\" f(\",n,\") = \",f(n, debug = False))\n",
    "    print(\" sf(\",n,\") = \",i)\n",
    "    print(\" g(\",i,\") = \",n)\n",
    "    return n\n",
    "\n",
    "\n",
    "def main_function(n,m):\n",
    "#     print(\"n :\", n)\n",
    "#     print(sum([sum([int(i) for i in str(g(i))]) for i in range(1,n+1)]) % m)\n",
    "    \n",
    "    my_range = set(range(1,n+1))\n",
    "    for i in range(1,10**18+1):\n",
    "            dicts[sf(i)] = i\n",
    "            if my_range.issubset(dicts.keys()):\n",
    "                break\n",
    "    print(dicts)\n",
    "    dicts = { your_key: dicts[your_key] for your_key in my_range }\n",
    "    dicts\n",
    "\n",
    "    print(sum([digit_sum(i) for i in dicts.values()]))\n",
    "\n",
    "# for _ in range(int(input())):\n",
    "#         n,m = list(map(int, input().rstrip().split()))\n",
    "#         main_function(n,m)\n",
    "        \n",
    "        "
   ]
  },
  {
   "cell_type": "code",
   "execution_count": null,
   "id": "ad599e50",
   "metadata": {},
   "outputs": [],
   "source": [
    "main_function(10,10000)"
   ]
  },
  {
   "cell_type": "code",
   "execution_count": null,
   "id": "329545c4",
   "metadata": {},
   "outputs": [],
   "source": [
    "def g(i): #to be the smallest positive integer n such that sf(n)=i\n",
    "    print(\" i = \",i)\n",
    "    for n in range(1,10**18+1):\n",
    "        print(\"Checking for n = \",n)\n",
    "        if sf(n) == i:\n",
    "            break\n",
    "    print(\" n = \",n)\n",
    "    print(\" f(\",n,\") = \",f(n, debug = False))\n",
    "    print(\" sf(\",n,\") = \",i)\n",
    "    print(\" g(\",i,\") = \",n)\n",
    "    return n"
   ]
  },
  {
   "cell_type": "code",
   "execution_count": 53,
   "id": "30f534ab",
   "metadata": {},
   "outputs": [],
   "source": [
    "\n",
    "def main_function(n,m):\n",
    "    dicts = {}\n",
    "    # print(sum([sum([int(i) for i in str(g(i))]) for i in range(1,n+1)]))\n",
    "    my_range = set(range(1,n+1))\n",
    "    for i in range(1,10**18+1):\n",
    "        sf1 = sf(i) \n",
    "        if sf1 not in list(dicts.keys()):\n",
    "            dicts[sf1] = i\n",
    "            if my_range.issubset(dicts.keys()):\n",
    "                break\n",
    "    dicts = { your_key: dicts[your_key] for your_key in my_range }\n",
    "    print(sum([digit_sum(i) for i in dicts.values()]) % m)\n",
    "    # print (g(n))"
   ]
  },
  {
   "cell_type": "code",
   "execution_count": 55,
   "id": "7c7d7818",
   "metadata": {},
   "outputs": [
    {
     "name": "stdout",
     "output_type": "stream",
     "text": [
      "568\n"
     ]
    }
   ],
   "source": [
    "main_function(43,10000)"
   ]
  },
  {
   "cell_type": "code",
   "execution_count": 17,
   "id": "5ae1d633",
   "metadata": {},
   "outputs": [
    {
     "data": {
      "text/plain": [
       "{1: 1,\n",
       " 2: 2,\n",
       " 6: 6,\n",
       " 24: 6,\n",
       " 120: 3,\n",
       " 720: 9,\n",
       " 5040: 9,\n",
       " 40320: 9,\n",
       " 362880: 27,\n",
       " 3: 3,\n",
       " 7: 7,\n",
       " 25: 7,\n",
       " 121: 4,\n",
       " 5: 5,\n",
       " 15: 6}"
      ]
     },
     "execution_count": 17,
     "metadata": {},
     "output_type": "execute_result"
    }
   ],
   "source": [
    "digit_sums"
   ]
  },
  {
   "cell_type": "code",
   "execution_count": 30,
   "id": "a914df8b",
   "metadata": {},
   "outputs": [
    {
     "name": "stdout",
     "output_type": "stream",
     "text": [
      "1\n",
      "1\n",
      "2\n",
      "2\n",
      "3\n",
      "3\n",
      "2\n",
      "2\n",
      "1\n",
      "1\n"
     ]
    }
   ],
   "source": [
    "for n in [1,2,3,2,1]:\n",
    "    print(n)\n",
    "    try:\n",
    "        print(digit_sums[n])\n",
    "    except:\n",
    "        print(\"hey\")\n",
    "        digit_sums[n]= sum([int(i) for i in str(n)])\n",
    "        print(digit_sums[n])"
   ]
  },
  {
   "cell_type": "code",
   "execution_count": null,
   "id": "f1f92365",
   "metadata": {},
   "outputs": [],
   "source": [
    "[range(1,3)]"
   ]
  },
  {
   "cell_type": "code",
   "execution_count": null,
   "id": "c637bf42",
   "metadata": {},
   "outputs": [],
   "source": [
    "f(3)"
   ]
  },
  {
   "cell_type": "code",
   "execution_count": null,
   "id": "49855904",
   "metadata": {},
   "outputs": [],
   "source": [
    "def g(i): #to be the smallest positive integer n such that sf(n)=i\n",
    "    for n in range(1,10**18+1):\n",
    "        print(\"**\")\n",
    "        print(n)\n",
    "        print(f(n))\n",
    "        print(sf(n))\n",
    "        if sf(n) == i:\n",
    "            break\n",
    "    return n"
   ]
  },
  {
   "cell_type": "code",
   "execution_count": null,
   "id": "8e6b08a5",
   "metadata": {},
   "outputs": [],
   "source": [
    "sf(267)"
   ]
  },
  {
   "cell_type": "code",
   "execution_count": null,
   "id": "5976400c",
   "metadata": {},
   "outputs": [],
   "source": [
    "n=1000"
   ]
  },
  {
   "cell_type": "code",
   "execution_count": null,
   "id": "a0dfb2b1",
   "metadata": {},
   "outputs": [],
   "source": [
    "f(n)"
   ]
  },
  {
   "cell_type": "code",
   "execution_count": null,
   "id": "dc82f878",
   "metadata": {},
   "outputs": [],
   "source": [
    "sf(n)"
   ]
  },
  {
   "cell_type": "code",
   "execution_count": null,
   "id": "d7c62c63",
   "metadata": {},
   "outputs": [],
   "source": [
    "g(20)"
   ]
  },
  {
   "cell_type": "code",
   "execution_count": null,
   "id": "51c2b90c",
   "metadata": {},
   "outputs": [],
   "source": []
  },
  {
   "cell_type": "code",
   "execution_count": null,
   "id": "8d537914",
   "metadata": {},
   "outputs": [],
   "source": [
    "factorial(3)"
   ]
  },
  {
   "cell_type": "code",
   "execution_count": null,
   "id": "7d208663",
   "metadata": {},
   "outputs": [],
   "source": [
    "i"
   ]
  },
  {
   "cell_type": "code",
   "execution_count": null,
   "id": "c2848c95",
   "metadata": {},
   "outputs": [],
   "source": [
    "factorials ={}\n",
    "digit_sums = {}\n",
    "def digit_sum(n): #sum of the digits of f(n)\n",
    "    print(n)\n",
    "    try :\n",
    "        print(\"in!\")\n",
    "        return digit_sums[i]\n",
    "    except :\n",
    "        print(\"not in\")\n",
    "        digit_sums[n]= sum([int(i) for i in str(n)])\n",
    "        return digit_sums[n]\n"
   ]
  },
  {
   "cell_type": "code",
   "execution_count": null,
   "id": "f63421e1",
   "metadata": {},
   "outputs": [],
   "source": [
    "digit_sum(1)"
   ]
  },
  {
   "cell_type": "code",
   "execution_count": null,
   "id": "c3c42bb2",
   "metadata": {},
   "outputs": [],
   "source": []
  }
 ],
 "metadata": {
  "kernelspec": {
   "display_name": "Python 3",
   "language": "python",
   "name": "python3"
  },
  "language_info": {
   "codemirror_mode": {
    "name": "ipython",
    "version": 3
   },
   "file_extension": ".py",
   "mimetype": "text/x-python",
   "name": "python",
   "nbconvert_exporter": "python",
   "pygments_lexer": "ipython3",
   "version": "3.8.8"
  }
 },
 "nbformat": 4,
 "nbformat_minor": 5
}

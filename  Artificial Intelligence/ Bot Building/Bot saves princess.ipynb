{
 "cells": [
  {
   "cell_type": "markdown",
   "id": "efa050ff",
   "metadata": {},
   "source": [
    "## Princess Peach is trapped in one of the four corners of a square grid. You are in the center of the grid and can move one step at a time in any of the four directions. Can you rescue the princess?"
   ]
  },
  {
   "cell_type": "markdown",
   "id": "53f327d1",
   "metadata": {},
   "source": [
    "## Input format"
   ]
  },
  {
   "cell_type": "markdown",
   "id": "6b131714",
   "metadata": {},
   "source": [
    "The first line contains an odd integer N (3 <= N < 100) denoting the size of the grid. This is followed by an NxN grid. Each cell is denoted by '-' (ascii value: 45). The bot position is denoted by 'm' and the princess position is denoted by 'p'.\n",
    "\n",
    "Grid is indexed using Matrix Convention"
   ]
  },
  {
   "cell_type": "markdown",
   "id": "7ed32095",
   "metadata": {},
   "source": [
    "## Output format"
   ]
  },
  {
   "cell_type": "markdown",
   "id": "f671fdee",
   "metadata": {},
   "source": [
    "Print out the moves you will take to rescue the princess in one go. The moves must be separated by '\\n', a newline. The valid moves are LEFT or RIGHT or UP or DOWN."
   ]
  },
  {
   "cell_type": "markdown",
   "id": "dc6a6a38",
   "metadata": {},
   "source": [
    "## Sample input"
   ]
  },
  {
   "cell_type": "markdown",
   "id": "9195231b",
   "metadata": {},
   "source": [
    "3\n",
    "\n",
    "---\n",
    "-m-\n",
    "p--"
   ]
  },
  {
   "cell_type": "markdown",
   "id": "d97e88be",
   "metadata": {},
   "source": [
    "## Sample output"
   ]
  },
  {
   "cell_type": "markdown",
   "id": "c77011a2",
   "metadata": {},
   "source": [
    "DOWN\n",
    "LEFT"
   ]
  },
  {
   "cell_type": "markdown",
   "id": "0ef32d32",
   "metadata": {},
   "source": [
    "## Task"
   ]
  },
  {
   "cell_type": "markdown",
   "id": "4b1138f7",
   "metadata": {},
   "source": [
    "Complete the function displayPathtoPrincess which takes in two parameters - the integer N and the character array grid. The grid will be formatted exactly as you see it in the input, so for the sample input the princess is at grid[2][0]. The function shall output moves (LEFT, RIGHT, UP or DOWN) on consecutive lines to rescue/reach the princess. The goal is to reach the princess in as few moves as possible.\n",
    "\n",
    "The above sample input is just to help you understand the format. The princess ('p') can be in any one of the four corners."
   ]
  },
  {
   "cell_type": "markdown",
   "id": "01e3c96a",
   "metadata": {},
   "source": [
    "## Scoring"
   ]
  },
  {
   "cell_type": "markdown",
   "id": "e2fc7810",
   "metadata": {},
   "source": [
    "Your score is calculated as follows : (NxN - number of moves made to rescue the princess)/10, where N is the size of the grid (3x3 in the sample testcase)."
   ]
  },
  {
   "cell_type": "code",
   "execution_count": 88,
   "id": "cdb65a1e",
   "metadata": {},
   "outputs": [
    {
     "name": "stdout",
     "output_type": "stream",
     "text": [
      "4\n",
      "---p\n",
      "----\n",
      "--m-\n",
      "----\n",
      "RIGHT\n",
      "UP\n",
      "UP\n"
     ]
    }
   ],
   "source": [
    "#!/usr/bin/python\n",
    "# m = 4\n",
    "# grid = [\"---p\",\"----\",\"----\",\"-m--\"]\n",
    "\n",
    "#!/usr/bin/python\n",
    "\n",
    "def displayPathtoPrincess(n,grid):\n",
    "    for row,value in enumerate(grid):\n",
    "        if value.find('m') >=0:\n",
    "            bot_locate = [row,value.find('m')]\n",
    "        if value.find('p') >=0:\n",
    "            princes_locate = [row,value.find('p')]\n",
    "    i= [a_i - b_i for a_i, b_i in zip(princes_locate,bot_locate)]\n",
    "    value = i[1]*(-1)* [\"LEFT\"] if i[1]<0 else i[1]*[\"RIGHT\"]\n",
    "    value.extend(i[0]*(-1)*[\"UP\"] if i[0]<0 else i[0]*[\"DOWN\"])\n",
    "    print(\"\\n\".join(value))\n",
    "    #print all the moves here\n",
    "\n",
    "m = int(input())\n",
    "grid = [] \n",
    "for i in range(0, m): \n",
    "    grid.append(input().strip())\n",
    "\n",
    "displayPathtoPrincess(m,grid)"
   ]
  }
 ],
 "metadata": {
  "kernelspec": {
   "display_name": "Python 3",
   "language": "python",
   "name": "python3"
  },
  "language_info": {
   "codemirror_mode": {
    "name": "ipython",
    "version": 3
   },
   "file_extension": ".py",
   "mimetype": "text/x-python",
   "name": "python",
   "nbconvert_exporter": "python",
   "pygments_lexer": "ipython3",
   "version": "3.8.8"
  }
 },
 "nbformat": 4,
 "nbformat_minor": 5
}

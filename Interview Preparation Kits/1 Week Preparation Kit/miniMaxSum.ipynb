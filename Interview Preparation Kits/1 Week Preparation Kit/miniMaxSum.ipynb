{
 "cells": [
  {
   "cell_type": "markdown",
   "id": "fda608d6",
   "metadata": {},
   "source": [
    "## Given five positive integers, find the minimum and maximum values that can be calculated by summing exactly four of the five integers. Then print the respective minimum and maximum values as a single line of two space-separated long integers."
   ]
  },
  {
   "cell_type": "raw",
   "id": "7b1130f0",
   "metadata": {},
   "source": [
    "https://www.hackerrank.com/challenges/one-week-preparation-kit-mini-max-sum/problem?isFullScreen=true&h_l=interview&playlist_slugs%5B%5D=preparation-kits&playlist_slugs%5B%5D=one-week-preparation-kit&playlist_slugs%5B%5D=one-week-day-one\n",
    "\n",
    "Example\n",
    "\n",
    "The minimum sum is  and the maximum sum is . The function prints\n",
    "\n",
    "16 24\n",
    "Function Description\n",
    "\n",
    "Complete the miniMaxSum function in the editor below.\n",
    "\n",
    "miniMaxSum has the following parameter(s):\n",
    "\n",
    "arr: an array of  integers\n",
    "Print\n",
    "\n",
    "Print two space-separated integers on one line: the minimum sum and the maximum sum of  of  elements.\n",
    "\n",
    "Input Format\n",
    "\n",
    "A single line of five space-separated integers.\n",
    "\n",
    "Constraints\n",
    "\n",
    "\n",
    "Output Format\n",
    "\n",
    "Print two space-separated long integers denoting the respective minimum and maximum values that can be calculated by summing exactly four of the five integers. (The output can be greater than a 32 bit integer.)\n",
    "\n",
    "Sample Input\n",
    "\n",
    "1 2 3 4 5\n",
    "Sample Output\n",
    "\n",
    "10 14\n",
    "Explanation\n",
    "\n",
    "The numbers are , , , , and . Calculate the following sums using four of the five integers:\n",
    "\n",
    "Sum everything except , the sum is .\n",
    "Sum everything except , the sum is .\n",
    "Sum everything except , the sum is .\n",
    "Sum everything except , the sum is .\n",
    "Sum everything except , the sum is .\n",
    "Hints: Beware of integer overflow! Use 64-bit Integer."
   ]
  },
  {
   "cell_type": "code",
   "execution_count": null,
   "id": "ce902eda",
   "metadata": {},
   "outputs": [],
   "source": [
    "#!/bin/python3\n",
    "\n",
    "import math\n",
    "import os\n",
    "import random\n",
    "import re\n",
    "import sys\n",
    "\n",
    "#\n",
    "# Complete the 'miniMaxSum' function below.\n",
    "#\n",
    "# The function accepts INTEGER_ARRAY arr as parameter.\n",
    "#\n",
    "import itertools\n",
    "\n",
    "def miniMaxSum(arr):\n",
    "    ls= (list(itertools.combinations(arr,4)))\n",
    "    sums = [sum(tup) for tup in ls]\n",
    "    print(str(min(sums)) + \" \" + str(max(sums)))\n",
    "\n",
    "if __name__ == '__main__':\n",
    "\n",
    "    arr = list(map(int, input().rstrip().split()))\n",
    "\n",
    "    miniMaxSum(arr)"
   ]
  }
 ],
 "metadata": {
  "kernelspec": {
   "display_name": "Python 3",
   "language": "python",
   "name": "python3"
  },
  "language_info": {
   "codemirror_mode": {
    "name": "ipython",
    "version": 3
   },
   "file_extension": ".py",
   "mimetype": "text/x-python",
   "name": "python",
   "nbconvert_exporter": "python",
   "pygments_lexer": "ipython3",
   "version": "3.8.8"
  }
 },
 "nbformat": 4,
 "nbformat_minor": 5
}

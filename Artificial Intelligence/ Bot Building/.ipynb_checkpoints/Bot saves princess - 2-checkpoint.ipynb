{
 "cells": [
  {
   "cell_type": "markdown",
   "id": "21d59cc5",
   "metadata": {},
   "source": [
    "## In this version of \"Bot saves princess\", Princess Peach and bot's position are randomly set. Can you save the princess? \n",
    "# Task\n",
    "\n",
    "## Complete the function nextMove which takes in 4 parameters - an integer N, integers r and c indicating the row & column position of the bot and the character array grid - and outputs the next move the bot makes to rescue the princess."
   ]
  },
  {
   "cell_type": "raw",
   "id": "06cb48e9",
   "metadata": {},
   "source": [
    "Input Format\n",
    "\n",
    "The first line of the input is N (<100), the size of the board (NxN). The second line of the input contains two space separated integers, which is the position of the bot.\n",
    "\n",
    "Grid is indexed using Matrix Convention\n",
    "\n",
    "The position of the princess is indicated by the character 'p' and the position of the bot is indicated by the character 'm' and each cell is denoted by '-' (ascii value: 45).\n",
    "\n",
    "Output Format\n",
    "\n",
    "Output only the next move you take to rescue the princess. Valid moves are LEFT, RIGHT, UP or DOWN\n",
    "\n",
    "Sample Input\n",
    "\n",
    "5\n",
    "2 3\n",
    "-----\n",
    "-----\n",
    "p--m-\n",
    "-----\n",
    "-----\n",
    "Sample Output\n",
    "\n",
    "LEFT\n",
    "Resultant State\n",
    "\n",
    "-----\n",
    "-----\n",
    "p-m--\n",
    "-----\n",
    "-----\n",
    "Explanation\n",
    "\n",
    "As you can see, bot is one step closer to the princess.\n",
    "\n",
    "Scoring\n",
    "Your score for every testcase would be (NxN minus number of moves made to rescue the princess)/10 where N is the size of the grid (5x5 in the sample testcase). Maximum score is 17.5"
   ]
  },
  {
   "cell_type": "code",
   "execution_count": 1,
   "id": "17a8eeb2",
   "metadata": {},
   "outputs": [
    {
     "name": "stdout",
     "output_type": "stream",
     "text": [
      "3\n",
      "2 3\n",
      "---\n",
      "-p-\n",
      "---\n"
     ]
    }
   ],
   "source": [
    "def nextMove(n,r,c,grid):\n",
    "    bot_locate = [r,c]\n",
    "    for row,value in enumerate(grid):\n",
    "        if value.find('p') >=0:\n",
    "            princes_locate = [row,value.find('p')]\n",
    "    i= [a_i - b_i for a_i, b_i in zip(princes_locate,bot_locate)]\n",
    "    value = i[1]*(-1)* [\"LEFT\"] if i[1]<0 else i[1]*[\"RIGHT\"]\n",
    "    value.extend(i[0]*(-1)*[\"UP\"] if i[0]<0 else i[0]*[\"DOWN\"])\n",
    "    return value[0]\n",
    "\n",
    "n = int(input())\n",
    "r,c = [int(i) for i in input().strip().split()]\n",
    "grid = []\n",
    "for i in range(0, n):\n",
    "    grid.append(input())\n",
    "\n",
    "print(nextMove(n,r,c,grid))"
   ]
  }
 ],
 "metadata": {
  "kernelspec": {
   "display_name": "Python 3",
   "language": "python",
   "name": "python3"
  },
  "language_info": {
   "codemirror_mode": {
    "name": "ipython",
    "version": 3
   },
   "file_extension": ".py",
   "mimetype": "text/x-python",
   "name": "python",
   "nbconvert_exporter": "python",
   "pygments_lexer": "ipython3",
   "version": "3.8.8"
  }
 },
 "nbformat": 4,
 "nbformat_minor": 5
}

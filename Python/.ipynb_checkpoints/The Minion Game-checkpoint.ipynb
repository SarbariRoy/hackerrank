{
 "cells": [
  {
   "cell_type": "markdown",
   "id": "ba38b05c",
   "metadata": {},
   "source": [
    "## Kevin and Stuart want to play the 'The Minion Game'."
   ]
  },
  {
   "cell_type": "raw",
   "id": "faf08902",
   "metadata": {},
   "source": [
    "Game Rules\n",
    "\n",
    "Both players are given the same string, .\n",
    "Both players have to make substrings using the letters of the string .\n",
    "Stuart has to make words starting with consonants.\n",
    "Kevin has to make words starting with vowels.\n",
    "The game ends when both players have made all possible substrings.\n",
    "\n",
    "Scoring\n",
    "A player gets +1 point for each occurrence of the substring in the string .\n",
    "\n",
    "For Example:\n",
    "String  = BANANA\n",
    "Kevin's vowel beginning word = ANA\n",
    "Here, ANA occurs twice in BANANA. Hence, Kevin will get 2 Points.\n",
    "\n",
    "For better understanding, see the image below:\n",
    "\n",
    "banana.png\n",
    "\n",
    "Your task is to determine the winner of the game and their score.\n",
    "\n",
    "Function Description\n",
    "\n",
    "Complete the minion_game in the editor below.\n",
    "\n",
    "minion_game has the following parameters:\n",
    "\n",
    "string string: the string to analyze\n",
    "Prints\n",
    "\n",
    "string: the winner's name and score, separated by a space on one line, or Draw if there is no winner\n",
    "Input Format\n",
    "\n",
    "A single line of input containing the string .\n",
    "Note: The string  will contain only uppercase letters: .\n",
    "\n",
    "Constraints\n",
    "\n",
    "\n",
    "\n",
    "Sample Input\n",
    "\n",
    "BANANA\n",
    "Sample Output\n",
    "\n",
    "Stuart 12\n",
    "Note :\n",
    "Vowels are only defined as . In this problem,  is not considered a vowel."
   ]
  },
  {
   "cell_type": "code",
   "execution_count": 38,
   "id": "985c6602",
   "metadata": {},
   "outputs": [],
   "source": [
    "def minion_game(string):\n",
    "    vowels = 'AEIOU'\n",
    "    kevin_score = 0\n",
    "    stuart_score = 0\n",
    "    for i in range(len(s)):\n",
    "        #if i=1 ==> s[i] = A ==> Kevin gets = ANANA,ANAN,ANA,AN,A (5 WORDS) = LEN(ANANA)\n",
    "        if s[i] in vowels:\n",
    "            kevin_score += (len(s)-i)\n",
    "        else:\n",
    "            stuart_score += (len(s)-i)\n",
    "\n",
    "    if kevin_score > stuart_score:\n",
    "        print (\"Kevin\", kevin_score)\n",
    "    elif kevin_score < stuart_score:\n",
    "        print (\"Stuart\", stuart_score)\n",
    "    else:\n",
    "        print (\"Draw\")"
   ]
  },
  {
   "cell_type": "code",
   "execution_count": 36,
   "id": "bc70a889",
   "metadata": {},
   "outputs": [
    {
     "name": "stdout",
     "output_type": "stream",
     "text": [
      "Stuart 12\n"
     ]
    }
   ],
   "source": [
    "STRING = \"BANANA\"\n",
    "minion_game(string)"
   ]
  },
  {
   "cell_type": "code",
   "execution_count": null,
   "id": "e6690c10",
   "metadata": {},
   "outputs": [],
   "source": []
  }
 ],
 "metadata": {
  "kernelspec": {
   "display_name": "Python 3",
   "language": "python",
   "name": "python3"
  },
  "language_info": {
   "codemirror_mode": {
    "name": "ipython",
    "version": 3
   },
   "file_extension": ".py",
   "mimetype": "text/x-python",
   "name": "python",
   "nbconvert_exporter": "python",
   "pygments_lexer": "ipython3",
   "version": "3.8.8"
  }
 },
 "nbformat": 4,
 "nbformat_minor": 5
}

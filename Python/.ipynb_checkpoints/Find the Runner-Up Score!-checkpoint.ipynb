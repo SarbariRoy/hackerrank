{
 "cells": [
  {
   "cell_type": "markdown",
   "id": "55bf1d4e",
   "metadata": {},
   "source": [
    "## Given the participants' score sheet for your University Sports Day, you are required to find the runner-up score. You are given  scores. Store them in a list and find the score of the runner-up."
   ]
  },
  {
   "cell_type": "raw",
   "id": "d4755ada",
   "metadata": {},
   "source": [
    "Input Format\n",
    "\n",
    "The first line contains n. The second line contains an array   of  integers each separated by a space.\n",
    "\n",
    "Constraints\n",
    "\n",
    "Output Format\n",
    "\n",
    "Print the runner-up score.\n",
    "\n",
    "Sample Input 0\n",
    "\n",
    "5\n",
    "2 3 6 6 5\n",
    "Sample Output 0\n",
    "\n",
    "5\n",
    "Explanation 0\n",
    "\n",
    "Given list is . The maximum score is , second maximum is . Hence, we print  as the runner-up score."
   ]
  },
  {
   "cell_type": "code",
   "execution_count": 11,
   "id": "a300424a",
   "metadata": {},
   "outputs": [
    {
     "name": "stdout",
     "output_type": "stream",
     "text": [
      "4\n",
      "2 3 4 5\n",
      "4\n"
     ]
    }
   ],
   "source": [
    "if __name__ == '__main__':\n",
    "    n = int(input())\n",
    "    arr = map(int, input().split())\n",
    "    print(sorted(list(set(arr)), reverse = True)[1])"
   ]
  }
 ],
 "metadata": {
  "kernelspec": {
   "display_name": "Python 3",
   "language": "python",
   "name": "python3"
  },
  "language_info": {
   "codemirror_mode": {
    "name": "ipython",
    "version": 3
   },
   "file_extension": ".py",
   "mimetype": "text/x-python",
   "name": "python",
   "nbconvert_exporter": "python",
   "pygments_lexer": "ipython3",
   "version": "3.8.8"
  }
 },
 "nbformat": 4,
 "nbformat_minor": 5
}

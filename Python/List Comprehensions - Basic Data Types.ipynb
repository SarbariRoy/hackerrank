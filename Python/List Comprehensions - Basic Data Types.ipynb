{
 "cells": [
  {
   "cell_type": "markdown",
   "id": "3bd7e1c4",
   "metadata": {},
   "source": [
    "## Let's learn about list comprehensions! You are given three integers  and  representing the dimensions of a cuboid along with an integer . Print a list of all possible coordinates given by  on a 3D grid where the sum of  is not equal to . Here, . Please use list comprehensions rather than multiple loops, as a learning exercise."
   ]
  },
  {
   "cell_type": "raw",
   "id": "8802db65",
   "metadata": {},
   "source": [
    "Example\n",
    "\n",
    "All permutations of  are:\n",
    ".\n",
    "\n",
    "Print an array of the elements that do not sum to .\n",
    "\n",
    "\n",
    "Input Format\n",
    "\n",
    "Four integers  and , each on a separate line.\n",
    "\n",
    "Constraints\n",
    "\n",
    "Print the list in lexicographic increasing order.\n",
    "\n",
    "Sample Input 0\n",
    "\n",
    "1\n",
    "1\n",
    "1\n",
    "2\n",
    "Sample Output 0\n",
    "\n",
    "[[0, 0, 0], [0, 0, 1], [0, 1, 0], [1, 0, 0], [1, 1, 1]]\n",
    "Explanation 0\n",
    "\n",
    "Each variable  and  will have values of  or . All permutations of lists in the form .\n",
    "Remove all arrays that sum to  to leave only the valid permutations.\n",
    "\n",
    "Sample Input 1\n",
    "\n",
    "2\n",
    "2\n",
    "2\n",
    "2\n",
    "Sample Output 1\n",
    "\n",
    "[[0, 0, 0], [0, 0, 1], [0, 1, 0], [0, 1, 2], [0, 2, 1], [0, 2, 2], [1, 0, 0], [1, 0, 2], [1, 1, 1], [1, 1, 2], [1, 2, 0], [1, 2, 1], [1, 2, 2], [2, 0, 1], [2, 0, 2], [2, 1, 0], [2, 1, 1], [2, 1, 2], [2, 2, 0], [2, 2, 1], [2, 2, 2]]"
   ]
  },
  {
   "cell_type": "code",
   "execution_count": 16,
   "id": "ec6f962a",
   "metadata": {},
   "outputs": [
    {
     "name": "stdout",
     "output_type": "stream",
     "text": [
      "1\n",
      "2\n",
      "3\n",
      "2\n",
      "[[0, 0, 0], [0, 0, 1], [0, 0, 3], [0, 1, 0], [0, 1, 2], [0, 1, 3], [0, 2, 1], [0, 2, 2], [0, 2, 3], [1, 0, 0], [1, 0, 2], [1, 0, 3], [1, 1, 1], [1, 1, 2], [1, 1, 3], [1, 2, 0], [1, 2, 1], [1, 2, 2], [1, 2, 3]]\n"
     ]
    }
   ],
   "source": [
    "if __name__ == '__main__':\n",
    "    x = int(input())\n",
    "    y = int(input())\n",
    "    z = int(input())\n",
    "    n = int(input())\n",
    "    \n",
    "    import itertools\n",
    "    test_list = [range(0,x+1),range(0,y+1),range(0,z+1)]\n",
    "    output_list = list(itertools.product(*test_list))\n",
    "    print([list(tup) for tup in output_list if sum(tup) !=n])"
   ]
  },
  {
   "cell_type": "code",
   "execution_count": null,
   "id": "6eb06242",
   "metadata": {},
   "outputs": [],
   "source": []
  }
 ],
 "metadata": {
  "kernelspec": {
   "display_name": "Python 3",
   "language": "python",
   "name": "python3"
  },
  "language_info": {
   "codemirror_mode": {
    "name": "ipython",
    "version": 3
   },
   "file_extension": ".py",
   "mimetype": "text/x-python",
   "name": "python",
   "nbconvert_exporter": "python",
   "pygments_lexer": "ipython3",
   "version": "3.8.8"
  }
 },
 "nbformat": 4,
 "nbformat_minor": 5
}

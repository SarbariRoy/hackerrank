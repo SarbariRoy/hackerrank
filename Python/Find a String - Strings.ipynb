{
 "cells": [
  {
   "cell_type": "markdown",
   "id": "fb5dce9d",
   "metadata": {},
   "source": [
    "## In this challenge, the user enters a string and a substring. You have to print the number of times that the substring occurs in the given string. String traversal will take place from left to right, not from right to left."
   ]
  },
  {
   "cell_type": "raw",
   "id": "1a45bf75",
   "metadata": {},
   "source": [
    "NOTE: String letters are case-sensitive.\n",
    "\n",
    "Input Format\n",
    "\n",
    "The first line of input contains the original string. The next line contains the substring.\n",
    "\n",
    "Constraints\n",
    "\n",
    "\n",
    "Each character in the string is an ascii character.\n",
    "\n",
    "Output Format\n",
    "\n",
    "Output the integer number indicating the total number of occurrences of the substring in the original string.\n",
    "\n",
    "Sample Input\n",
    "\n",
    "ABCDCDC\n",
    "CDC\n",
    "Sample Output\n",
    "\n",
    "2\n",
    "Concept\n",
    "\n",
    "Some string processing examples, such as these, might be useful.\n",
    "There are a couple of new concepts:\n",
    "In Python, the length of a string is found by the function len(s), where  is the string.\n",
    "To traverse through the length of a string, use a for loop:\n",
    "\n",
    "for i in range(0, len(s)):\n",
    "    print (s[i])\n",
    "A range function is used to loop over some length:\n",
    "\n",
    "range (0, 5)\n",
    "Here, the range loops over  to .  is excluded."
   ]
  },
  {
   "cell_type": "code",
   "execution_count": 14,
   "id": "43acf75f",
   "metadata": {},
   "outputs": [
    {
     "ename": "SyntaxError",
     "evalue": "unexpected EOF while parsing (<ipython-input-14-a839cf3967cb>, line 8)",
     "output_type": "error",
     "traceback": [
      "\u001b[0;36m  File \u001b[0;32m\"<ipython-input-14-a839cf3967cb>\"\u001b[0;36m, line \u001b[0;32m8\u001b[0m\n\u001b[0;31m    if __name__ == '__main__':\u001b[0m\n\u001b[0m                              ^\u001b[0m\n\u001b[0;31mSyntaxError\u001b[0m\u001b[0;31m:\u001b[0m unexpected EOF while parsing\n"
     ]
    }
   ],
   "source": [
    "def count_substring(string, sub_string):\n",
    "    counter = 0\n",
    "    for i in range(0, len(string)+1):\n",
    "        if string[i:i+len(sub_string)]== sub_string:\n",
    "            counter = counter +1 \n",
    "    return counter\n",
    "\n",
    "if __name__ == '__main__':\n",
    "    string = input().strip()\n",
    "    sub_string = input().strip()\n",
    "    \n",
    "    count = count_substring(string, sub_string)\n",
    "    print(count)"
   ]
  },
  {
   "cell_type": "code",
   "execution_count": null,
   "id": "c3e5fe54",
   "metadata": {},
   "outputs": [],
   "source": []
  }
 ],
 "metadata": {
  "kernelspec": {
   "display_name": "Python 3",
   "language": "python",
   "name": "python3"
  },
  "language_info": {
   "codemirror_mode": {
    "name": "ipython",
    "version": 3
   },
   "file_extension": ".py",
   "mimetype": "text/x-python",
   "name": "python",
   "nbconvert_exporter": "python",
   "pygments_lexer": "ipython3",
   "version": "3.8.8"
  }
 },
 "nbformat": 4,
 "nbformat_minor": 5
}
